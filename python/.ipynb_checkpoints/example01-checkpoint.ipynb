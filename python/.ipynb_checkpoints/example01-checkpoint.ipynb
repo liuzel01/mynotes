{
 "cells": [
  {
   "cell_type": "code",
   "execution_count": 1,
   "metadata": {},
   "outputs": [
    {
     "name": "stdout",
     "output_type": "stream",
     "text": [
      "j\n",
      "j\n",
      "a\n",
      "s\n",
      "o\n",
      "n\n"
     ]
    }
   ],
   "source": [
    "attributes = ['name', 'dob', 'gender']\n",
    "values = [['jason', '2000-01-01', 'male'], \n",
    "['mike', '1999-01-01', 'male'],\n",
    "['nancy', '2001-02-01', 'female']\n",
    "]\n",
    " \n",
    "# expected outout:\n",
    "[{'name': 'jason', 'dob': '2000-01-01', 'gender': 'male'}, \n",
    "{'name': 'mike', 'dob': '1999-01-01', 'gender': 'male'}, \n",
    "{'name': 'nancy', 'dob': '2001-02-01', 'gender': 'female'}]\n",
    "name = 'jjason'\n",
    "for char in name:\n",
    "    print(char)"
   ]
  },
  {
   "cell_type": "code",
   "execution_count": 62,
   "metadata": {
    "scrolled": true
   },
   "outputs": [
    {
     "name": "stdout",
     "output_type": "stream",
     "text": [
      "0 1 2 3 4 5 6 7 8 9 10 11 12 13 14 15 16 17 18 19 20 21 22 23 24 25 26 27 28 29 30 31 32 33 34 35 36 37 38 39 40 41 42 43 44 45 46 47 48 49 50 51 52 53 54 55 56 57 58 59 60 61 62 63 64 65 66 67 68 69 70 71 72 73 74 75 76 77 78 79 80 81 82 83 84 85 86 87 88 89 90 91 92 93 94 95 96 97 98 99\n",
      "0 1 2 3 4 5 6 7 8 9 10 11 12 13 14 15 16 17 18 19 20 21 22 23 24 25 26 27 28 29 30 31 32 33 34 35 36 37 38 39 40 41 42 43 44 45 46 47 48 49 50 51 52 53 54 55 56 57 58 59 60 61 62 63 64 65 66 67 68 69 70 71 72 73 74 75 76 77 78 79 80 81 82 83 84 85 86 87 88 89 90 91 92 93 94 95 96 97 98 99\n",
      "[0, 1, 4, 9, 16]\n"
     ]
    }
   ],
   "source": [
    "# 对于字符串拼接，除了用加法操作符，还可使用其内置的join函数\n",
    "# 列表的append操作是O(1)复杂度，字符串同理，因此这个fot循环的复杂度为，n*O(1)=O(n)\n",
    "l = []\n",
    "for n in range(0,100):\n",
    "    l.append(str(n))\n",
    "l = ' '.join(l)\n",
    "print(l)\n",
    "a = \" \".join(map(str, range(0, 100)))\n",
    "print(a)\n",
    "# python3中map()返回值不再是list而是iterators，需要list()转换\n",
    "def square(x):\n",
    "    return x ** 2\n",
    "print(list(map(square,range(0,5))))"
   ]
  },
  {
   "cell_type": "code",
   "execution_count": 3,
   "metadata": {},
   "outputs": [
    {
     "name": "stdout",
     "output_type": "stream",
     "text": [
      "no data available for person with id: 9527,name: xiaobaibai\n",
      "no data available for person with id: 9527,name: xiaobaibai\n"
     ]
    }
   ],
   "source": [
    "# 格式化函数，%s表示字符串型，%d表示整型\n",
    "# 推荐string.format{}。最新规范，也官方文档推荐的规范\n",
    "id = 9527\n",
    "name = 'xiaobaibai'\n",
    "print('no data available for person with id: %s,name: %s' %(id,name))\n",
    "print('no data available for person with id: {},name: {}'.format(id,name))"
   ]
  },
  {
   "cell_type": "code",
   "execution_count": 6,
   "metadata": {},
   "outputs": [
    {
     "name": "stdout",
     "output_type": "stream",
     "text": [
      "1\n",
      "1\n",
      "a + b = 11\n",
      "type of a is <class 'str'>, type of b is <class 'str'>\n",
      "a + b = 2\n"
     ]
    }
   ],
   "source": [
    "a = input()\n",
    "b = input()\n",
    "print('a + b = {}'.format(a + b))\n",
    "print('type of a is {}, type of b is {}'.format(type(a), type(b)))\n",
    "print('a + b = {}'.format(int(a) + int(b)))"
   ]
  },
  {
   "cell_type": "code",
   "execution_count": 16,
   "metadata": {},
   "outputs": [],
   "source": [
    "# NLP自然语言处理\n",
    "import re\n",
    "def pares(a):\n",
    "    # 正则表达去除标点符号和换行符\n",
    "    a = re.sub(r'[^\\w]',' ',a)\n",
    "    a = a.lower()\n",
    "    # 生成所有单词的列表\n",
    "    word_list = a.split(' ')\n",
    "    # 去除空白单词\n",
    "    word_list = filter(None,word_list)\n",
    "    # 单词和词频的字典\n",
    "    word_cnt = {}\n",
    "    for word in word_list:\n",
    "        if word not in word_cnt:\n",
    "            word_cnt[word] = 0\n",
    "        word_cnt[word] += 1\n",
    "    # 按照词频排序\n",
    "    sorted_word_cnt = sorted(word_cnt.items(),key=lambda kv: kv[1],reverse=True)\n",
    "    return sorted_word_cnt\n",
    "\n",
    "with open('C:/Users/44362/Desktop/in_nlp.txt','r') as fin:\n",
    "    a = fin.read()\n",
    "outfile = pares(a)\n",
    "\n",
    "with open('out_nlp.txt','w') as fout:\n",
    "    for word,freg in outfile:\n",
    "        fout.write('{}\\t{}\\n'.format(word,freg))"
   ]
  },
  {
   "cell_type": "code",
   "execution_count": 52,
   "metadata": {},
   "outputs": [
    {
     "name": "stdout",
     "output_type": "stream",
     "text": [
      "after json serialization\n",
      "type of params_str = <class 'str'>,params_str = {'symbol': '123456', 'type': 'limit', 'price': 123.4, 'amount': 23}\n",
      "after json deserialization\n",
      "type of params_str = <class 'dict'>,params_str = {'symbol': '123456', 'type': 'limit', 'price': 123.4, 'amount': 23}\n"
     ]
    }
   ],
   "source": [
    "# json序列化\n",
    "import json\n",
    "params = {\n",
    "    'symbol': '123456',\n",
    "    'type': 'limit',\n",
    "    'price': 123.4,\n",
    "    'amount': 23\n",
    "}\n",
    "# 接收python的基本数据类型，序列化为string\n",
    "params_str = json.dumps(params)\n",
    "print('after json serialization')\n",
    "print('type of params_str = {},params_str = {}'.format(type(params_str),params))\n",
    "# 接收合法字符串，反序列化为python的基本数据类型\n",
    "original_params = json.loads(params_str)\n",
    "print('after json deserialization')\n",
    "print('type of params_str = {},params_str = {}'.format(type(original_params),original_params))"
   ]
  },
  {
   "cell_type": "code",
   "execution_count": 111,
   "metadata": {},
   "outputs": [
    {
     "name": "stdout",
     "output_type": "stream",
     "text": [
      "key: name,value: jason\n",
      "key: dob,value: 2020-01-01\n",
      "key: gender,value: male\n",
      "index: 0,key: name,value: jason\n",
      "index: 1,key: dob,value: 2020-01-01\n",
      "index: 2,key: gender,value: male\n"
     ]
    }
   ],
   "source": [
    "# 条件与循环\n",
    "a = {\n",
    "    'name': 'jason',\n",
    "    'dob': '2020-01-01',\n",
    "    'gender': 'male'\n",
    "}\n",
    "# for k in a:\n",
    "#     print(k)\n",
    "# for v in a.values():\n",
    "#     print(v)\n",
    "for k,v in a.items():\n",
    "    print('key: {},value: {}'.format(k,v))\n",
    "\n",
    "# 借助pyhton内置的函数 enumerate()  \n",
    "l = {\n",
    "    'name': 'jason',\n",
    "    'dob': '2020-01-01',\n",
    "    'gender': 'male'\n",
    "}\n",
    "for i, (k,v) in enumerate(l.items()):\n",
    "    if i < 5:\n",
    "        print('index: {},key: {},value: {}'.format(i,k,v))"
   ]
  },
  {
   "cell_type": "code",
   "execution_count": 149,
   "metadata": {},
   "outputs": [
    {
     "name": "stdout",
     "output_type": "stream",
     "text": [
      "index: 0,name: chanpin01, price: 2000\n",
      "index: 1,name: chanpin06, price: 1000\n"
     ]
    }
   ],
   "source": [
    "# continue 让程序跳过当前这层循环，继续执行下面的循环；而break则是指完全跳出所在的整个循环体。\n",
    "# 适当加入，可使程序更加简洁、易读\n",
    "name_price = {\n",
    "    'chanpin01': 2000,\n",
    "    'chanpin06': 1000\n",
    "}\n",
    "name_color = {\n",
    "    'chanpin01': 'black',\n",
    "    'chanpin02': 'yellow',\n",
    "    'chanpin03': 'blue',\n",
    "    'chanpin04': 'blacck',\n",
    "    'chanpin05': 'white',\n",
    "}\n",
    "# for name, price in name_price.items():\n",
    "#     print('name: {}, price: {}'.format(name,price))\n",
    "\n",
    "for index,(name, price) in enumerate(name_price.items()):\n",
    "    print('index: {},name: {}, price: {}'.format(index,name,price))\n",
    "# for index,(name, color) in enumerate(name_color.items()):\n",
    "#     print('index: {},name: {}, color: {}'.format(index,name,color))\n",
    "\n",
    "for index,(name, price) in enumerate(name_price.items()):\n",
    "#     price = int(name_price[price])\n",
    "    if price >= 2000:\n",
    "        continue\n",
    "    if name not in name_color:\n",
    "        print('name: {}, color: {}'.format(name,'None'))\n",
    "        continue\n",
    "    for color in name_color[name]:\n",
    "        if color == 'red':\n",
    "            continue\n",
    "        print('name: {}, color: {}'.format(name,color))"
   ]
  },
  {
   "cell_type": "code",
   "execution_count": 191,
   "metadata": {},
   "outputs": [
    {
     "name": "stdout",
     "output_type": "stream",
     "text": [
      "==============================\n",
      "name: chanpin06, price: 3000\n"
     ]
    }
   ],
   "source": [
    "name_price = {\n",
    "    'chanpin01': 2000,\n",
    "    'chanpin06': 3000\n",
    "}\n",
    "name_color = {\n",
    "    'chanpin01': 'red',\n",
    "    'chanpin02': 'yellow',\n",
    "    'chanpin03': 'blue',\n",
    "    'chanpin04': 'blacck',\n",
    "    'chanpin05': 'white',\n",
    "}\n",
    "for name, price in name_price.items():\n",
    "    if price == 3000:\n",
    "        print('='*30)\n",
    "        print('name: {}, price: {}'.format(name,price))\n",
    "        continue\n",
    "        if name not in name_color:\n",
    "            print('name: {}, color: {}'.format(name,'None'))\n",
    "            continue\n",
    "        for name in name_color[name]:\n",
    "            if color == 'red':\n",
    "                continue\n",
    "                print('name: {}, color: {}'.format(name, color))"
   ]
  },
  {
   "cell_type": "code",
   "execution_count": 3,
   "metadata": {},
   "outputs": [
    {
     "name": "stdout",
     "output_type": "stream",
     "text": [
      "['Today', 'Sunday']\n"
     ]
    }
   ],
   "source": [
    "# 比如简单的循环，for调用的range() 是直接由C语言写的，同样的while循环效率就略逊一筹\n",
    "for i in range(0,1000000):\n",
    "    pass\n",
    "i = 0\n",
    "while i < 1000000:\n",
    "    i += 1\n",
    "# 进阶-有很多将条件与循环并做一行的操作\n",
    "expression1 if condition else express2 for item in iterable \n",
    "# 如若没有else语句，则\n",
    "express for item in iterable if condition \n",
    "# 要绘制y = 2*|x| + 5的函数图像\n",
    "y = [value * 2 + 5 if value > 0 else -value * 2 + 5 for value in x]\n",
    "# 将文件中逐行读取的一个完整语句按逗号分隔，去掉首位空字符，并过滤掉长度小于等于3的单词，返回由单词组成的列表\n",
    "a = ' Today, is, Sunday '\n",
    "a_list = [s.strip() for s in a.split(',') if len(s.strip()) > 3]\n",
    "print(a_list)\n",
    "# 给定两个列表x,y,要求返回x,y中所有元素对组成的元组，相等情况除外\n",
    "[(xx,yy) for xx in x for yy in y if xx != yy]"
   ]
  },
  {
   "cell_type": "code",
   "execution_count": 19,
   "metadata": {},
   "outputs": [
    {
     "name": "stdout",
     "output_type": "stream",
     "text": [
      "[(1, 2), (1, 3), (1, 4), (1, 5), (1, 6), (2, 3), (2, 4), (2, 5), (2, 6), (3, 2), (3, 4), (3, 5), (3, 6)]\n",
      "[(1, 2), (1, 3), (1, 4), (1, 5), (1, 6), (2, 3), (2, 4), (2, 5), (2, 6), (3, 2), (3, 4), (3, 5), (3, 6)]\n"
     ]
    }
   ],
   "source": [
    "# 原来的是aa,bb,换成k,j就好理解了吧。先要有(k,j)这样一个列表来存储每一个元素，而且两个for 循环是与的关系\n",
    "a = [1,2,3]\n",
    "b = [2,3,4,5,6]\n",
    "c = [(k,j) for k in a for j in b if j != k]\n",
    "print(c)\n",
    "# 以上代码等价于，\n",
    "a = [1,2,3]\n",
    "b = [2,3,4,5,6]\n",
    "l = []\n",
    "for aa in a:\n",
    "    for bb in b:\n",
    "        if aa != bb:\n",
    "            l.append((aa,bb))\n",
    "print(l)"
   ]
  },
  {
   "cell_type": "code",
   "execution_count": 58,
   "metadata": {},
   "outputs": [
    {
     "name": "stdout",
     "output_type": "stream",
     "text": [
      "[{'name': 'jason', 'dob': '2000-01-01', 'gender': 'male'}, {'name': 'mike', 'dob': '1999-01-01', 'gender': 'male'}, {'name': 'nancy', 'dob': '2001-02-01', 'gender': 'female'}]\n",
      "[{'name': 'jason', 'dob': '2000-01-01', 'gender': 'male'}, {'name': 'mike', 'dob': '1999-01-01', 'gender': 'male'}, {'name': 'nancy', 'dob': '2001-02-01', 'gender': 'female'}]\n"
     ]
    }
   ],
   "source": [
    "a = ['name', 'dob', 'gender']\n",
    "b = [['jason', '2000-01-01', 'male'], ['mike', '1999-01-01', 'male'],['nancy', '2001-02-01', 'female']]\n",
    "# 因为最后是一个字典的形式，所以c = []\n",
    "c = []\n",
    "for j in b:\n",
    "    # 这里创建一个空集合，缺啥就给啥就完事\n",
    "    q = {}\n",
    "    for index,attr in enumerate(a):\n",
    "        # 这里，就赋值给了j[index]，好像不是赋值的意思，print(q)就能懂了\n",
    "        q[attr] = j[index]\n",
    "    c.append(q)\n",
    "print(c)\n",
    "\n",
    "c = [{a[index]:v[index] for index in range(len(a))} for v in b]\n",
    "print(c)"
   ]
  },
  {
   "cell_type": "code",
   "execution_count": 54,
   "metadata": {},
   "outputs": [
    {
     "name": "stdout",
     "output_type": "stream",
     "text": [
      "{'name': 'jason'}\n",
      "{'name': 'jason', 'dob': '2000-01-01'}\n",
      "{'name': 'jason', 'dob': '2000-01-01', 'gender': 'male'}\n",
      "{'name': 'mike'}\n",
      "{'name': 'mike', 'dob': '1999-01-01'}\n",
      "{'name': 'mike', 'dob': '1999-01-01', 'gender': 'male'}\n",
      "{'name': 'nancy'}\n",
      "{'name': 'nancy', 'dob': '2001-02-01'}\n",
      "{'name': 'nancy', 'dob': '2001-02-01', 'gender': 'female'}\n"
     ]
    }
   ],
   "source": [
    "a = ['name', 'dob', 'gender']\n",
    "b = [['jason', '2000-01-01', 'male'], ['mike', '1999-01-01', 'male'],['nancy', '2001-02-01', 'female']]\n",
    "for j in b:\n",
    "    q = {}\n",
    "    for index,attr in enumerate(a):\n",
    "        # print(index,attr)\n",
    "        # print('='*30)\n",
    "        q[attr] = j[index]\n",
    "        print(q)"
   ]
  },
  {
   "cell_type": "code",
   "execution_count": null,
   "metadata": {},
   "outputs": [],
   "source": []
  }
 ],
 "metadata": {
  "kernelspec": {
   "display_name": "Python 3",
   "language": "python",
   "name": "python3"
  },
  "language_info": {
   "codemirror_mode": {
    "name": "ipython",
    "version": 3
   },
   "file_extension": ".py",
   "mimetype": "text/x-python",
   "name": "python",
   "nbconvert_exporter": "python",
   "pygments_lexer": "ipython3",
   "version": "3.8.6"
  }
 },
 "nbformat": 4,
 "nbformat_minor": 4
}
